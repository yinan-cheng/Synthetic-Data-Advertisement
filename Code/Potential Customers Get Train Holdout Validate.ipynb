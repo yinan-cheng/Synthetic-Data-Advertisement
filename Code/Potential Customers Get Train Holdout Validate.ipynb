{
 "cells": [
  {
   "cell_type": "code",
   "execution_count": 1,
   "id": "f504f7b0",
   "metadata": {},
   "outputs": [],
   "source": [
    "import os\n",
    "os.chdir('/Users/yinancheng/Documents/Project/TrustworthyAI/Advertisement/')"
   ]
  },
  {
   "cell_type": "code",
   "execution_count": 35,
   "id": "781499c3",
   "metadata": {},
   "outputs": [
    {
     "name": "stdout",
     "output_type": "stream",
     "text": [
      "data is loaded...\n"
     ]
    }
   ],
   "source": [
    "import pandas as pd \n",
    "path = 'Data' # Path of the dataset folder\n",
    "task_id = 31941 # Pick a task\n",
    "\n",
    "df_feeds = pd.read_csv(path + '/train/train_data_feeds.csv')\n",
    "df_ads = pd.read_csv(path + '/train/train_data_ads.csv')\n",
    "print(\"data is loaded...\")"
   ]
  },
  {
   "cell_type": "code",
   "execution_count": 36,
   "id": "193dba94",
   "metadata": {},
   "outputs": [],
   "source": [
    "user_ads = df_ads['user_id'].unique()\n",
    "df_feeds_pot = df_feeds[df_feeds['u_userId'].isin(user_ads)].sort_values(by='e_et')"
   ]
  },
  {
   "cell_type": "code",
   "execution_count": 37,
   "id": "7e0d956d",
   "metadata": {},
   "outputs": [
    {
     "name": "stdout",
     "output_type": "stream",
     "text": [
      "(2475843, 28)\n",
      "(3227732, 28)\n",
      "(7675517, 35)\n"
     ]
    }
   ],
   "source": [
    "print(df_feeds_pot.shape)\n",
    "print(df_feeds.shape)\n",
    "print(df_ads.shape)"
   ]
  },
  {
   "cell_type": "code",
   "execution_count": 60,
   "id": "8cb66597",
   "metadata": {},
   "outputs": [
    {
     "name": "stdout",
     "output_type": "stream",
     "text": [
      "Total Sample size is 77470, Positive Sample size is 2492, Negative Sample size is 74978, label rate is 0.033236416015364506\n"
     ]
    }
   ],
   "source": [
    "df_ads_task = df_ads[df_ads['task_id'] == task_id].sort_values(by = 'pt_d')"
   ]
  },
  {
   "cell_type": "code",
   "execution_count": 61,
   "id": "5901ce17",
   "metadata": {},
   "outputs": [],
   "source": [
    "df_merged = pd.merge_asof(df_ads_task, df_feeds_pot, left_on='pt_d', right_on='e_et', left_by = 'user_id', right_by = 'u_userId', direction='backward')\n",
    "df_merged = df_merged.sample(frac=1).reset_index(drop=True)"
   ]
  },
  {
   "cell_type": "code",
   "execution_count": 62,
   "id": "0a2051a5",
   "metadata": {},
   "outputs": [
    {
     "name": "stdout",
     "output_type": "stream",
     "text": [
      "label_x                 2\n",
      "age                     8\n",
      "gender                  3\n",
      "residence              34\n",
      "city                  332\n",
      "city_rank               4\n",
      "series_dev             23\n",
      "series_group            7\n",
      "emui_dev               24\n",
      "device_name           217\n",
      "device_size           552\n",
      "creat_type_cd           2\n",
      "slot_id                49\n",
      "u_refreshTimes_x       10\n",
      "u_feedLifeCycle_x       8\n",
      "u_phonePrice            7\n",
      "u_browserLifeCycle      8\n",
      "u_browserMode           7\n",
      "u_feedLifeCycle_y       8\n",
      "u_refreshTimes_y       10\n",
      "i_regionEntity        252\n",
      "i_cat                 193\n",
      "i_dislikeTimes         10\n",
      "i_upTimes              10\n",
      "i_dtype                 5\n",
      "e_ch                   19\n",
      "e_m                   217\n",
      "e_po                   23\n",
      "e_rn                   56\n",
      "e_section               2\n",
      "label_y                 2\n",
      "cillabel                2\n",
      "pro                    11\n",
      "dtype: int64\n",
      "(56342, 33)\n"
     ]
    }
   ],
   "source": [
    "import numpy as np\n",
    "columns_to_drop = [column for column in df_merged.columns if df_merged[column].nunique() > 1000 or df_merged[column].nunique() == 1]\n",
    "\n",
    "df_merged = df_merged.drop(columns=columns_to_drop)\n",
    "\n",
    "df_merged = df_merged.select_dtypes(include=[np.number])\n",
    "\n",
    "df_merged = df_merged.dropna()\n",
    "df_merged = df_merged.astype(int)\n",
    "\n",
    "print(df_merged.nunique())\n",
    "print(df_merged.shape)"
   ]
  },
  {
   "cell_type": "code",
   "execution_count": 63,
   "id": "0fc65d8b",
   "metadata": {},
   "outputs": [
    {
     "name": "stdout",
     "output_type": "stream",
     "text": [
      "Total Sample size is 56342, Positive Sample size is 1272, Negative Sample size is 55070, label rate is 0.023097875431269295\n",
      "Total Sample size is 22536, Positive Sample size is 508, Negative Sample size is 22028, label rate is 0.023061558017069186\n",
      "Total Sample size is 22536, Positive Sample size is 508, Negative Sample size is 22028, label rate is 0.023061558017069186\n",
      "Total Sample size is 11268, Positive Sample size is 254, Negative Sample size is 11014, label rate is 0.023061558017069186\n"
     ]
    }
   ],
   "source": [
    "from Dataset_Utility.utility_functions import calculate_label_rate2, get_train_holdout_validate\n",
    "\n",
    "calculate_label_rate2(df_merged, 'label_x')\n",
    "n = df_merged.shape[0]#sample size we want\n",
    "df_train, df_holdout, df_val = get_train_holdout_validate(df_merged, 'label_x', n)\n",
    "\n",
    "calculate_label_rate2(df_train,'label_x')\n",
    "calculate_label_rate2(df_holdout,'label_x')\n",
    "calculate_label_rate2(df_val,'label_x')\n",
    "\n",
    "task_path = f'{path}/potential_{task_id}'\n",
    "if not os.path.exists(task_path):\n",
    "    os.makedirs(task_path)\n",
    "\n",
    "df_train.to_csv(f'{task_path}/df_train.csv', index=False)\n",
    "df_holdout.to_csv(f'{task_path}/df_holdout.csv', index=False)\n",
    "df_val.to_csv(f'{task_path}/df_val.csv', index=False)"
   ]
  },
  {
   "cell_type": "code",
   "execution_count": null,
   "id": "23d4d883",
   "metadata": {},
   "outputs": [],
   "source": []
  }
 ],
 "metadata": {
  "kernelspec": {
   "display_name": "Python 3 (ipykernel)",
   "language": "python",
   "name": "python3"
  },
  "language_info": {
   "codemirror_mode": {
    "name": "ipython",
    "version": 3
   },
   "file_extension": ".py",
   "mimetype": "text/x-python",
   "name": "python",
   "nbconvert_exporter": "python",
   "pygments_lexer": "ipython3",
   "version": "3.10.10"
  }
 },
 "nbformat": 4,
 "nbformat_minor": 5
}
